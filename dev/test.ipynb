{
 "cells": [
  {
   "cell_type": "code",
   "execution_count": 11,
   "id": "e211be88",
   "metadata": {},
   "outputs": [],
   "source": [
    "import os\n",
    "import glob\n",
    "import re\n",
    "from tkinter import Tk\n",
    "from tkinter.filedialog import askdirectory\n",
    "import pandas as pd\n",
    "\n",
    "dossier = r'C:/Users/Guigui/GitHub/gdemare.github.io/'\n",
    "data = pd.DataFrame(columns = ['chemin', 'fichier', 'extension'] )\n",
    "dossAide = dossier + 'aide-memoire/'\n",
    "\n",
    "for root, dirs, files in os.walk(dossAide):\n",
    "    for file in files:\n",
    "        if file.endswith('.md'):\n",
    "            chemin = root[len(dossAide):]\n",
    "            if file.endswith('_r.md'):\n",
    "                ext = 'r'\n",
    "                fichier = file[:-5]\n",
    "            elif file.endswith('_sas.md'):\n",
    "                ext = 'sas'\n",
    "                fichier = file[:-7]\n",
    "            elif file.endswith('_py.md'):\n",
    "                ext = 'py'\n",
    "                fichier = file[:-6]\n",
    "            else :\n",
    "                fichier = file[:-3]\n",
    "                ext = 'general'\n",
    "            data.loc[len(data)] = [chemin, fichier, ext]"
   ]
  },
  {
   "cell_type": "code",
   "execution_count": 5,
   "id": "ac86a000",
   "metadata": {},
   "outputs": [],
   "source": [
    "tabcroi = pd.pivot_table(data, columns='extension', index=['fichier'], aggfunc='count')\n",
    "tab = tabcroi.reset_index()\n",
    "tab.fillna(0,inplace=True)\n",
    "tab.columns = ['fichier', 'general', 'py', 'r', 'sas'] \n",
    "tab[[ 'general', 'py', 'r', 'sas']] = tab[[ 'general', 'py', 'r', 'sas']].astype(int)\n",
    "\n",
    "label = data[[\"chemin\", \"fichier\"]].drop_duplicates(keep='last')\n",
    "jointure = pd.merge(label, tab, how = \"left\", on = \"fichier\")\n",
    "jointure = jointure"
   ]
  },
  {
   "cell_type": "code",
   "execution_count": null,
   "id": "30e125a4",
   "metadata": {},
   "outputs": [],
   "source": [
    "texte = \"\"\n",
    "col = jointure.columns\n",
    "print(col)\n",
    "for i, row in jointure.iterrows():\n",
    "    texte = texte + \"{ chemin: '\" + row[col[0]] + \"/\" + row[col[1]] + \"', general: \" + str(row[col[2]])\n",
    "    texte = texte + \", r: \" + str(row[col[4]]) + \", sas:\" + str(row[col[5]])  + \", py:\" + str(row[col[3]])  + \"},\\n\""
   ]
  },
  {
   "cell_type": "code",
   "execution_count": null,
   "id": "d1ca854f",
   "metadata": {},
   "outputs": [],
   "source": [
    "tex = '// dossier ; sous dossier; chemin; general; r; sas; python\\nfichiers = [' + str(texte)[0:-2] + '];'\n",
    "\n",
    "with open(dossier + 'js/data.js', 'w') as f:\n",
    "    print(tex, file=f)\n",
    "    sys.stdout = original_stdout"
   ]
  },
  {
   "cell_type": "code",
   "execution_count": null,
   "id": "6b407369",
   "metadata": {},
   "outputs": [],
   "source": []
  },
  {
   "cell_type": "code",
   "execution_count": null,
   "id": "8c274f84",
   "metadata": {},
   "outputs": [],
   "source": []
  }
 ],
 "metadata": {
  "kernelspec": {
   "display_name": "Python 3 (ipykernel)",
   "language": "python",
   "name": "python3"
  },
  "language_info": {
   "codemirror_mode": {
    "name": "ipython",
    "version": 3
   },
   "file_extension": ".py",
   "mimetype": "text/x-python",
   "name": "python",
   "nbconvert_exporter": "python",
   "pygments_lexer": "ipython3",
   "version": "3.10.8"
  }
 },
 "nbformat": 4,
 "nbformat_minor": 5
}
