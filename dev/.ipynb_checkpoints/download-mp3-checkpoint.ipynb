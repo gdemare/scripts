{
 "cells": [
  {
   "cell_type": "code",
   "execution_count": 1,
   "metadata": {},
   "outputs": [],
   "source": [
    "import requests\n",
    "import sqlite3\n",
    "from bs4 import BeautifulSoup\n",
    "from datetime import date\n",
    "import chardet\n",
    "import html"
   ]
  },
  {
   "cell_type": "code",
   "execution_count": 2,
   "metadata": {},
   "outputs": [],
   "source": [
    "url = \"https://www.franceculture.fr/emissions/la-conversation-scientifique?p=2\""
   ]
  },
  {
   "cell_type": "code",
   "execution_count": 3,
   "metadata": {},
   "outputs": [],
   "source": [
    "page = requests.get(url)\n",
    "soup = BeautifulSoup(page.content.decode('UTF-8'), 'html.parser')\n",
    "texte = str(soup)"
   ]
  },
  {
   "cell_type": "code",
   "execution_count": 4,
   "metadata": {},
   "outputs": [
    {
     "name": "stdout",
     "output_type": "stream",
     "text": [
      "https://media.radiofrance-podcast.net/podcast09/13957-18.12.2021-ITEMA_22875029-2021C22785S0352-21.mp3\n",
      "Science en questions   podcast et réécoute sur France Culture - Page.mp3\n"
     ]
    }
   ],
   "source": [
    "rch = texte.find(\".mp3\")\n",
    "posi = 0\n",
    "esp=texte[rch-posi]\n",
    "while esp!=\" \":\n",
    "    esp=texte[rch-posi-2]\n",
    "    posi=posi+1\n",
    "mp3 = texte[rch-posi:rch+4]\n",
    "mp3 = mp3[mp3.find(\"http\"):]\n",
    "print(mp3)\n",
    "\n",
    "titre = soup.title.contents[0].strip()\n",
    "nom_fic = ''\n",
    "for i in titre:\n",
    "    asci = ord(i)\n",
    "    if (asci>=65 and asci<=90) or (asci>=97 and asci<=122) or asci==32 or (asci>=224 and asci<=241) or asci==45:\n",
    "        nom_fic = nom_fic + i\n",
    "    else:\n",
    "        nom_fic = nom_fic + \" \"\n",
    "nom_fic = nom_fic.strip() +\".mp3\"\n",
    "print(nom_fic)"
   ]
  },
  {
   "cell_type": "code",
   "execution_count": 5,
   "metadata": {},
   "outputs": [
    {
     "data": {
      "text/plain": [
       "43635506"
      ]
     },
     "execution_count": 5,
     "metadata": {},
     "output_type": "execute_result"
    }
   ],
   "source": [
    "myfile = requests.get(mp3)\n",
    "open(\"C:/Users/Guigui/Downloads/\"+nom_fic, 'wb').write(myfile.content)"
   ]
  }
 ],
 "metadata": {
  "celltoolbar": "Aucun(e)",
  "kernelspec": {
   "display_name": "Python 3 (ipykernel)",
   "language": "python",
   "name": "python3"
  },
  "language_info": {
   "codemirror_mode": {
    "name": "ipython",
    "version": 3
   },
   "file_extension": ".py",
   "mimetype": "text/x-python",
   "name": "python",
   "nbconvert_exporter": "python",
   "pygments_lexer": "ipython3",
   "version": "3.10.8"
  }
 },
 "nbformat": 4,
 "nbformat_minor": 4
}
