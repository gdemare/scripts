{
 "cells": [
  {
   "cell_type": "code",
   "execution_count": 179,
   "metadata": {},
   "outputs": [],
   "source": [
    "import requests\n",
    "import sqlite3\n",
    "from bs4 import BeautifulSoup\n",
    "from datetime import date\n",
    "import chardet\n",
    "import html\n",
    "import re\n",
    "from datetime import datetime\n",
    "def htmlPage (url) :\n",
    "    page = requests.get(url)\n",
    "    soup = BeautifulSoup(page.content.decode('UTF-8'), 'html.parser')\n",
    "    return soup\n",
    "\n",
    "def lien (url) : \n",
    "    adresse = re.match(r'(.)*//(.)*(\\.fr|\\.com)', str(url))\n",
    "    return adresse.group(0)\n",
    "\n",
    "## radio france : CardDetails\n",
    "def listeLiens (url) :\n",
    "    adresse = lien(url)\n",
    "    soup = htmlPage(url)\n",
    "    contenu = soup.findAll(class_='CardDetails')\n",
    "    liste = []\n",
    "    for i in contenu :\n",
    "        liste.append(adresse+i.find('a', href=True)['href'])\n",
    "    return liste\n",
    "\n",
    "def audioLien (url) :\n",
    "    soup = htmlPage(url)\n",
    "    texte = str(soup)\n",
    "    lien = re.search(r'https.[\\S]*((?<!\\\").).mp3' , texte).group(0)\n",
    "    nom = re.search(r'((?!/).)*$',url).group(0)\n",
    "    return lien, nom\n",
    "        \n",
    "def download (dossier, url, nom) :\n",
    "    myfile = requests.get(url)\n",
    "    date = re.search(r'[0-9]{2}.[0-9]{2}.[0-9]{4}',url).group(0)\n",
    "    date = datetime.strptime(date, '%d.%m.%Y')\n",
    "    date = date.strftime('%Y-%m-%d')\n",
    "    fichier = dossier + '/' + date + '_'+ nom +'.mp3'\n",
    "    open(fichier, 'wb').write(myfile.content)\n",
    "    return nom"
   ]
  },
  {
   "cell_type": "code",
   "execution_count": 173,
   "metadata": {},
   "outputs": [
    {
     "name": "stdout",
     "output_type": "stream",
     "text": [
      "https://media.radiofrance-podcast.net/podcast09/13957-13.11.2021-ITEMA_22837598-2021C22785E0272-21.mp3\n",
      "2021-11-13\n"
     ]
    }
   ],
   "source": [
    "url = 'https://www.radiofrance.fr/franceculture/podcasts/science-en-questions/ne-pense-t-on-qu-avec-sa-langue-7374430'\n",
    "lien, nom = audioLien(url)\n",
    "print( lien )\n",
    "date = re.search(r'[0-9]{2}.[0-9]{2}.[0-9]{4}',lien).group(0)\n",
    "date = datetime.strptime(date, '%d.%m.%Y')\n",
    "date = date.strftime('%Y-%m-%d')\n",
    "print( date )"
   ]
  },
  {
   "cell_type": "code",
   "execution_count": 176,
   "metadata": {},
   "outputs": [
    {
     "name": "stdout",
     "output_type": "stream",
     "text": [
      "https://www.radiofrance.fr\n"
     ]
    }
   ],
   "source": [
    "lien( url )\n",
    "adresse = re.match(r'(.)*//(.)*(\\.fr|\\.com)', url)\n",
    "print( adresse.group(0) )"
   ]
  },
  {
   "cell_type": "code",
   "execution_count": 181,
   "metadata": {},
   "outputs": [
    {
     "name": "stdout",
     "output_type": "stream",
     "text": [
      "12 épisodes trouvés\n",
      "Episode  1  :  comment-nourrir-durablement-toute-l-humanite-3303920\n",
      "Episode  2  :  ne-pense-t-on-qu-avec-sa-langue\n",
      "Episode  3  :  est-ce-la-lumiere-qui-sculpte-l-univers\n",
      "Episode  4  :  big-data-versus-theories-qui-va-s-imposer-2188176\n",
      "Episode  5  :  ou-le-passe-est-il-passe-8697433\n",
      "Episode  6  :  pourquoi-croit-on-1393290\n",
      "Episode  7  :  la-science-ou-l-art-de-raconter-ce-qui-s-est-passe-5661714\n",
      "Episode  8  :  la-lecture-des-essais-de-montaigne-est-elle-antidepressive-5744086\n",
      "Episode  9  :  un-prix-nobel-de-chimie-cela-s-obtient-comment-5114480\n",
      "Episode  10  :  l-univers-a-une-histoire-qu-est-ce-a-dire-6497252\n",
      "Episode  11  :  la-physique-d-einstein-aiderait-elle-a-comprendre-le-cerveau-8440487\n",
      "Episode  12  :  la-vie-des-sols-n-est-elle-pas-palpitante-7195076\n"
     ]
    }
   ],
   "source": [
    "url = \"https://www.radiofrance.fr/franceculture/podcasts/la-conversation-scientifique\"\n",
    "dossier = \"C:/Users/Guigui/Downloads/\"\n",
    "\n",
    "liste = listeLiens( url )\n",
    "tot = len(liste)\n",
    "cpt = 0\n",
    "print(str(tot) + ' épisodes trouvés')\n",
    "for i in liste :\n",
    "    cpt = cpt+1\n",
    "    audioUrl, nom = audioLien(i)\n",
    "    print('Episode ', str(cpt), ' : ', nom )\n",
    "    download(dossier, audioUrl, nom)"
   ]
  },
  {
   "cell_type": "code",
   "execution_count": 182,
   "metadata": {},
   "outputs": [
    {
     "name": "stdout",
     "output_type": "stream",
     "text": [
      "Page  2\n",
      "12 épisodes trouvés\n",
      "Episode  1  :  que-nous-apprend-l-experience-de-l-apesanteur-5279110\n",
      "Episode  2  :  la-lumiere-du-soleil-une-matiere-a-reflexion-7816167\n",
      "Episode  3  :  quelle-est-cette-entite-mysterieuse-qu-on-appelle-la-societe-6187966\n",
      "Episode  4  :  a-quoi-la-peur-nous-sert-elle-6918038\n",
      "Episode  5  :  comment-la-destruction-peut-elle-creatrice-5579869\n",
      "Episode  6  :  comment-travaillent-les-mathematiciens-le-cas-d-alexandre-grothendieck-9875809\n",
      "Episode  7  :  la-science-et-ses-pastiches-1973540\n",
      "Episode  8  :  comment-donner-du-gout-au-monde-de-demain-9372615\n",
      "Episode  9  :  comment-nourrir-durablement-toute-l-humanite-3303920\n",
      "Episode  10  :  la-science-algorithmique-change-t-elle-l-amour-6766929\n",
      "Episode  11  :  qui-ne-voit-plus-reverra-t-il-7847100\n",
      "Episode  12  :  les-dinosaures-se-sont-ils-eteints-d-un-seul-coup-5895595\n",
      "Page  3\n",
      "12 épisodes trouvés\n",
      "Episode  1  :  quel-genre-de-science-est-la-geographie-selon-sylvain-tesson-6648109\n",
      "Episode  2  :  peut-on-expliquer-la-musique-3174178\n",
      "Episode  3  :  l-eau-est-elle-encore-matiere-a-reves-7325749\n",
      "Episode  4  :  pourquoi-les-philosophes-mathematiciens-se-font-ils-fusiller-le-cas-albert-lautman-1908-1944-1374334\n",
      "Episode  5  :  peut-on-penser-l-incommensurable-3787803\n",
      "Episode  6  :  2022-ou-l-annee-de-la-recherche-fondamentale-4567977\n",
      "Episode  7  :  qu-est-ce-que-le-tempo-1743881\n",
      "Episode  8  :  quelle-distance-separe-l-inhumain-de-l-humain-8310070\n",
      "Episode  9  :  qu-est-ce-que-le-telescope-spatial-jwst-va-pouvoir-voir-1547572\n",
      "Episode  10  :  sciences-et-philosophie-quels-liens-8877060\n",
      "Episode  11  :  comment-converser-avec-les-machines-parlantes-6528592\n",
      "Episode  12  :  est-ce-la-lumiere-qui-sculpte-l-univers-8430962\n",
      "Page  4\n",
      "12 épisodes trouvés\n",
      "Episode  1  :  ne-pense-t-on-qu-avec-sa-langue-7374430\n",
      "Episode  2  :  agathie-christie-la-verite-tue-t-elle-quand-elle-est-trop-tue-7206160\n",
      "Episode  3  :  dune-science-fiction-pure-ou-simple-prefiguration-7120039\n",
      "Episode  4  :  allons-nous-changer-d-espece-humaine-9703817\n",
      "Episode  5  :  quels-sont-les-effets-de-l-altitude-sur-le-corps-humain-2378845\n",
      "Episode  6  :  la-traduction-ou-l-art-de-faire-avec-les-differences-5536928\n",
      "Episode  7  :  le-futur-se-lit-il-deja-dans-le-present-7845719\n",
      "Episode  8  :  l-univers-est-en-expansion-qu-est-ce-a-dire-6079505\n",
      "Episode  9  :  comment-faire-entendre-la-physique-de-tous-les-jours-3817903\n",
      "Episode  10  :  apres-albert-einstein-que-reste-t-il-de-la-notion-de-temps-4315780\n",
      "Episode  11  :  quel-avenir-pour-la-recherche-europeenne-1666094\n",
      "Episode  12  :  louis-lachenal-ou-la-resurrection-dun-alpiniste\n",
      "Page  5\n",
      "12 épisodes trouvés\n",
      "Episode  1  :  prenom-de-code-ada\n",
      "Episode  2  :  il-neige-que-se-passe-t-il\n",
      "Episode  3  :  la-vie-sur-terre-est-elle-unique\n",
      "Episode  4  :  les-freres-cohen-tannoudji-deux-destins-de-physiciens\n",
      "Episode  5  :  la-musique-electrique-des-spheres\n",
      "Episode  6  :  les-glaces-inquietants-barometres-du-climat\n",
      "Episode  7  :  la-tech-est-elle-doucement-despotique\n",
      "Episode  8  :  l-histoire-de-la-medecine-aurait-elle-oublie-les-malades-7880143\n",
      "Episode  9  :  l-espace-temps-est-courbe-qu-est-ce-a-dire-6357690\n",
      "Episode  10  :  poesie-et-science-se-parlent-elles-1331810\n",
      "Episode  11  :  de-linterpretation-des-signes-0\n",
      "Episode  12  :  la-notion-de-verite-perdrait-elle-connaissance-2217380\n",
      "Page  6\n",
      "12 épisodes trouvés\n",
      "Episode  1  :  la-reparation-dans-tous-ses-etats-5285663\n",
      "Episode  2  :  la-vie-et-la-mort-par-temps-de-pandemie-6699192\n",
      "Episode  3  :  existe-t-il-un-autre-temps-que-le-temps-physique-2566800\n",
      "Episode  4  :  la-mathematique-et-ses-vertiges-2346769\n",
      "Episode  5  :  il-neige-que-se-passe-t-il-1182957\n",
      "Episode  6  :  la-part-innee-de-l-immunite-1619280\n",
      "Episode  7  :  la-vie-secrete-des-sous-marins-nucleaires\n",
      "Episode  8  :  comment-revivifier-les-lumieres-4248214\n",
      "Episode  9  :  les-limites-ont-elles-des-bornes-8931741\n",
      "Episode  10  :  l-iceberg-une-matiere-a-reflexion-7492605\n",
      "Episode  11  :  prehistoire-ou-sont-les-femmes-8529327\n",
      "Episode  12  :  quel-statut-pour-l-erreur-dans-les-sciences-medicales-4824637\n"
     ]
    }
   ],
   "source": [
    "for i in range(2, 7):\n",
    "    print( 'Page ', i)\n",
    "    url = \"https://www.radiofrance.fr/franceculture/podcasts/la-conversation-scientifique?p=\" + str(i)\n",
    "    dossier = \"C:/Users/Guigui/Downloads/\"\n",
    "\n",
    "    liste = listeLiens( url )\n",
    "    tot = len(liste)\n",
    "    cpt = 0\n",
    "    print(str(tot) + ' épisodes trouvés')\n",
    "    for i in liste :\n",
    "        cpt = cpt+1\n",
    "        audioUrl, nom = audioLien(i)\n",
    "        print('Episode ', str(cpt), ' : ', nom )\n",
    "        download(dossier, audioUrl, nom)"
   ]
  }
 ],
 "metadata": {
  "celltoolbar": "Aucun(e)",
  "kernelspec": {
   "display_name": "Python 3 (ipykernel)",
   "language": "python",
   "name": "python3"
  },
  "language_info": {
   "codemirror_mode": {
    "name": "ipython",
    "version": 3
   },
   "file_extension": ".py",
   "mimetype": "text/x-python",
   "name": "python",
   "nbconvert_exporter": "python",
   "pygments_lexer": "ipython3",
   "version": "3.10.8"
  }
 },
 "nbformat": 4,
 "nbformat_minor": 4
}
