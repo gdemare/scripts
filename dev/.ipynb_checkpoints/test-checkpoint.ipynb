{
 "cells": [
  {
   "cell_type": "code",
   "execution_count": 2,
   "id": "e211be88",
   "metadata": {},
   "outputs": [
    {
     "ename": "NameError",
     "evalue": "name 'chemin' is not defined",
     "output_type": "error",
     "traceback": [
      "\u001b[1;31m---------------------------------------------------------------------------\u001b[0m",
      "\u001b[1;31mNameError\u001b[0m                                 Traceback (most recent call last)",
      "Cell \u001b[1;32mIn [2], line 31\u001b[0m\n\u001b[0;32m     29\u001b[0m         fichier \u001b[38;5;241m=\u001b[39m file[:\u001b[38;5;241m-\u001b[39m\u001b[38;5;241m3\u001b[39m]\n\u001b[0;32m     30\u001b[0m         ext \u001b[38;5;241m=\u001b[39m \u001b[38;5;124m'\u001b[39m\u001b[38;5;124mgeneral\u001b[39m\u001b[38;5;124m'\u001b[39m\n\u001b[1;32m---> 31\u001b[0m data\u001b[38;5;241m.\u001b[39mloc[\u001b[38;5;28mlen\u001b[39m(data)] \u001b[38;5;241m=\u001b[39m [\u001b[43mchemin\u001b[49m, fichier, ext]\n",
      "\u001b[1;31mNameError\u001b[0m: name 'chemin' is not defined"
     ]
    }
   ],
   "source": [
    "import os\n",
    "import glob\n",
    "import re\n",
    "from tkinter import Tk\n",
    "from tkinter.filedialog import askdirectory\n",
    "import pandas as pdzz"
   ]
  },
  {
   "cell_type": "code",
   "execution_count": 4,
   "id": "ac86a000",
   "metadata": {},
   "outputs": [],
   "source": [
    "tabcroi = pd.pivot_table(data, columns='extension', index=['fichier'], aggfunc='count')\n",
    "tab = tabcroi.reset_index()\n",
    "tab.fillna(0,inplace=True)\n",
    "tab.columns = ['fichier', 'general', 'py', 'r', 'sas'] \n",
    "tab[[ 'general', 'py', 'r', 'sas']] = tab[[ 'general', 'py', 'r', 'sas']].astype(int)\n",
    "\n",
    "label = data[[\"chemin\", \"fichier\"]].drop_duplicates(keep='last')\n",
    "jointure = pd.merge(label, tab, how = \"left\", on = \"fichier\")\n",
    "jointure = jointure"
   ]
  },
  {
   "cell_type": "code",
   "execution_count": 18,
   "id": "30e125a4",
   "metadata": {},
   "outputs": [
    {
     "name": "stdout",
     "output_type": "stream",
     "text": [
      "Index(['chemin', 'fichier', 'general', 'py', 'r', 'sas'], dtype='object')\n"
     ]
    }
   ],
   "source": [
    "texte = \"\"\n",
    "col = jointure.columns\n",
    "print(col)\n",
    "for i, row in jointure.iterrows():\n",
    "    texte = texte + \"{ chemin: '\" + row[col[0]] + \"/\" + row[col[1]] + \"', general: \" + str(row[col[2]])\n",
    "    texte = texte + \", r: \" + str(row[col[4]]) + \", sas:\" + str(row[col[5]])  + \", py:\" + str(row[col[3]])  + \"},\\n\""
   ]
  },
  {
   "cell_type": "code",
   "execution_count": null,
   "id": "d1ca854f",
   "metadata": {},
   "outputs": [
    {
     "name": "stderr",
     "output_type": "stream",
     "text": [
      "Exception in thread IPythonHistorySavingThread:\n",
      "Traceback (most recent call last):\n",
      "  File \"C:\\Users\\Guigui\\AppData\\Local\\Programs\\Python\\Python310\\lib\\site-packages\\IPython\\core\\history.py\", line 831, in writeout_cache\n",
      "    self._writeout_input_cache(conn)\n",
      "  File \"C:\\Users\\Guigui\\AppData\\Local\\Programs\\Python\\Python310\\lib\\site-packages\\IPython\\core\\history.py\", line 814, in _writeout_input_cache\n",
      "    conn.execute(\"INSERT INTO history VALUES (?, ?, ?, ?)\",\n",
      "sqlite3.IntegrityError: UNIQUE constraint failed: history.session, history.line\n",
      "\n",
      "During handling of the above exception, another exception occurred:\n",
      "\n",
      "Traceback (most recent call last):\n",
      "  File \"C:\\Users\\Guigui\\AppData\\Local\\Programs\\Python\\Python310\\lib\\site-packages\\IPython\\core\\history.py\", line 886, in run\n",
      "    self.history_manager.writeout_cache(self.db)\n",
      "  File \"C:\\Users\\Guigui\\AppData\\Local\\Programs\\Python\\Python310\\lib\\site-packages\\decorator.py\", line 232, in fun\n",
      "    return caller(func, *(extras + args), **kw)\n",
      "  File \"C:\\Users\\Guigui\\AppData\\Local\\Programs\\Python\\Python310\\lib\\site-packages\\IPython\\core\\history.py\", line 60, in only_when_enabled\n",
      "    return f(self, *a, **kw)\n",
      "  File \"C:\\Users\\Guigui\\AppData\\Local\\Programs\\Python\\Python310\\lib\\site-packages\\IPython\\core\\history.py\", line 834, in writeout_cache\n",
      "    print(\"ERROR! Session/line number was not unique in\",\n",
      "ValueError: I/O operation on closed file.\n",
      "\n",
      "During handling of the above exception, another exception occurred:\n",
      "\n",
      "Traceback (most recent call last):\n",
      "  File \"C:\\Users\\Guigui\\AppData\\Local\\Programs\\Python\\Python310\\lib\\threading.py\", line 1016, in _bootstrap_inner\n",
      "    self.run()\n",
      "  File \"C:\\Users\\Guigui\\AppData\\Local\\Programs\\Python\\Python310\\lib\\site-packages\\decorator.py\", line 232, in fun\n",
      "    return caller(func, *(extras + args), **kw)\n",
      "  File \"C:\\Users\\Guigui\\AppData\\Local\\Programs\\Python\\Python310\\lib\\site-packages\\IPython\\core\\history.py\", line 60, in only_when_enabled\n",
      "    return f(self, *a, **kw)\n",
      "  File \"C:\\Users\\Guigui\\AppData\\Local\\Programs\\Python\\Python310\\lib\\site-packages\\IPython\\core\\history.py\", line 888, in run\n",
      "    print((\"The history saving thread hit an unexpected error (%s).\"\n",
      "ValueError: I/O operation on closed file.\n"
     ]
    }
   ],
   "source": [
    "tex = '// dossier ; sous dossier; chemin; general; r; sas; python\\nfichiers = [' + str(texte)[0:-2] + '];'\n",
    "\n",
    "with open(dossier + '/data.js', 'w') as f:\n",
    "    print('Le fichier est créé data.js',tex)"
   ]
  },
  {
   "cell_type": "code",
   "execution_count": null,
   "id": "6b407369",
   "metadata": {},
   "outputs": [],
   "source": []
  },
  {
   "cell_type": "code",
   "execution_count": null,
   "id": "8c274f84",
   "metadata": {},
   "outputs": [],
   "source": []
  }
 ],
 "metadata": {
  "kernelspec": {
   "display_name": "Python 3 (ipykernel)",
   "language": "python",
   "name": "python3"
  },
  "language_info": {
   "codemirror_mode": {
    "name": "ipython",
    "version": 3
   },
   "file_extension": ".py",
   "mimetype": "text/x-python",
   "name": "python",
   "nbconvert_exporter": "python",
   "pygments_lexer": "ipython3",
   "version": "3.10.8"
  }
 },
 "nbformat": 4,
 "nbformat_minor": 5
}
