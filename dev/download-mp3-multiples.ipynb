{
 "cells": [
  {
   "cell_type": "code",
   "execution_count": 54,
   "metadata": {},
   "outputs": [],
   "source": [
    "import requests\n",
    "import sqlite3\n",
    "from bs4 import BeautifulSoup\n",
    "from datetime import date\n",
    "import html\n",
    "import re\n",
    "from datetime import datetime\n",
    "\n",
    "def htmlPage (url) :\n",
    "    page = requests.get(url)\n",
    "    soup = BeautifulSoup(page.content.decode('UTF-8'), 'html.parser')\n",
    "    return soup\n",
    "\n",
    "def lien (url) : \n",
    "    adresse = re.match(r'(.)*//(.)*(\\.fr|\\.com)', str(url))\n",
    "    return adresse.group(0)\n",
    "\n",
    "### Trovuer des liens mp3\n",
    "def audioLien (url) :\n",
    "    soup = htmlPage(url)\n",
    "    texte = str(soup)\n",
    "    lien = re.search(r'https.[\\S]*((?<!\\\").).mp3' , texte).group(0)\n",
    "    nom = re.search(r'((?!/).)*$',url).group(0)\n",
    "    return lien, nom\n",
    "\n",
    "#### Télécharge le fichier trouvé\n",
    "def download (fichier, url, nom) :\n",
    "    myfile = requests.get(url)\n",
    "    open(fichier, 'wb').write(myfile.content)\n",
    "    return nom\n",
    "\n",
    "## Radio france\n",
    "#### renvoie un tableau avec les émissions et leur lien\n",
    "def rfListe (url) :\n",
    "    adresse = lien(url)\n",
    "    soup = htmlPage(url)\n",
    "    contenu = soup.findAll(class_='ConceptTitle')\n",
    "    liste = []\n",
    "    for i in contenu :\n",
    "        liste.append(adresse+i.find('a', href=True)['href'])\n",
    "    return liste\n",
    "\n",
    "def rfFichier (urlmp3):\n",
    "    date = re.search(r'[0-9]{2}.[0-9]{2}.[0-9]{4}',urlmp3).group(0)\n",
    "    date = datetime.strptime(date, '%d.%m.%Y')\n",
    "    date = date.strftime('%Y-%m-%d')\n",
    "    fichier = dossier + '/' + date + '_'+ nom +'.mp3'\n",
    "    return fichier\n",
    "\n",
    "url = \"https://www.radiofrance.fr/franceculture/podcasts/la-conversation-scientifique\"\n",
    "dossier = \"C:/Users/Guigui/Downloads/\"\n",
    "\n",
    "liste = rfListe( url )\n",
    "tot = len(liste)\n",
    "cpt = 0\n",
    "print(str(tot) + ' épisodes trouvés')\n",
    "for i in liste :\n",
    "    cpt = cpt+1\n",
    "    audioUrl, nom = audioLien(i)\n",
    "    print('Episode ', str(cpt), ' : ', nom )\n",
    "    #download(dossier, audioUrl, nom)"
   ]
  },
  {
   "cell_type": "code",
   "execution_count": 18,
   "metadata": {},
   "outputs": [
    {
     "name": "stdout",
     "output_type": "stream",
     "text": [
      "https://media.radiofrance-podcast.net/podcast09/13957-13.11.2021-ITEMA_22837598-2021C22785E0272-21.mp3 ne-pense-t-on-qu-avec-sa-langue-7374430\n"
     ]
    }
   ],
   "source": [
    "url = 'https://www.radiofrance.fr/franceculture/podcasts/science-en-questions/ne-pense-t-on-qu-avec-sa-langue-7374430'\n",
    "lien, nom = audioLien(url)\n",
    "print( lien, nom)"
   ]
  },
  {
   "cell_type": "code",
   "execution_count": 55,
   "metadata": {},
   "outputs": [
    {
     "data": {
      "text/plain": [
       "['https://www.radiofrance.fr/franceculture/podcasts/affaires-etrangeres/les-circuits-du-chocolat-2187978',\n",
       " 'https://www.radiofrance.fr/franceculture/podcasts/affaires-etrangeres/cyberattaques-cyberdefense-les-guerres-du-numerique-8377298',\n",
       " 'https://www.radiofrance.fr/franceculture/podcasts/affaires-etrangeres/soutenir-et-aider-l-ukraine-3943555',\n",
       " 'https://www.radiofrance.fr/franceculture/podcasts/affaires-etrangeres/armement-les-lecons-de-la-guerre-d-ukraine-7003479',\n",
       " 'https://www.radiofrance.fr/franceculture/podcasts/affaires-etrangeres/femme-vie-liberte-revolution-a-l-iranienne-4128550',\n",
       " 'https://www.radiofrance.fr/franceculture/podcasts/affaires-etrangeres/l-europe-face-aux-flux-migratoires-7243527',\n",
       " 'https://www.radiofrance.fr/franceculture/podcasts/affaires-etrangeres/cop27-g20-les-mutations-du-multilateralisme-7362690',\n",
       " 'https://www.radiofrance.fr/franceculture/podcasts/affaires-etrangeres/les-deux-corees-l-escalade-3017336',\n",
       " 'https://www.radiofrance.fr/franceculture/podcasts/affaires-etrangeres/elections-de-mi-mandat-les-fractures-americaines-5120812',\n",
       " 'https://www.radiofrance.fr/franceculture/podcasts/affaires-etrangeres/londres-en-plein-chaos-politique-4399458',\n",
       " 'https://www.radiofrance.fr/franceculture/podcasts/affaires-etrangeres/chine-le-sacre-de-l-empereur-8325135',\n",
       " 'https://www.radiofrance.fr/franceculture/podcasts/affaires-etrangeres/transport-maritime-profits-et-risques-de-guerre-1409890']"
      ]
     },
     "execution_count": 55,
     "metadata": {},
     "output_type": "execute_result"
    }
   ],
   "source": [
    "rfListe(\"https://www.radiofrance.fr/franceculture/podcasts/affaires-etrangeres\")"
   ]
  },
  {
   "cell_type": "code",
   "execution_count": 38,
   "metadata": {},
   "outputs": [
    {
     "name": "stdout",
     "output_type": "stream",
     "text": [
      "https://media.radiofrance-podcast.net/podcast09/13957-13.11.2021-ITEMA_22837598-2021C22785E0272-21.mp3 ne-pense-t-on-qu-avec-sa-langue-7374430\n"
     ]
    },
    {
     "data": {
      "text/plain": [
       "'ne-pense-t-on-qu-avec-sa-langue-7374430'"
      ]
     },
     "execution_count": 38,
     "metadata": {},
     "output_type": "execute_result"
    }
   ],
   "source": [
    "url = 'https://www.radiofrance.fr/franceculture/podcasts/science-en-questions/ne-pense-t-on-qu-avec-sa-langue-7374430'\n",
    "lien, nom = audioLien(url)\n",
    "print( lien, nom )\n",
    "download( rfFichier(lien), lien, nom)"
   ]
  },
  {
   "cell_type": "code",
   "execution_count": 176,
   "metadata": {},
   "outputs": [
    {
     "name": "stdout",
     "output_type": "stream",
     "text": [
      "https://www.radiofrance.fr\n"
     ]
    }
   ],
   "source": [
    "lien( url )\n",
    "adresse = re.match(r'(.)*//(.)*(\\.fr|\\.com)', url)\n",
    "print( adresse.group(0) )"
   ]
  },
  {
   "cell_type": "code",
   "execution_count": 57,
   "metadata": {},
   "outputs": [
    {
     "name": "stdout",
     "output_type": "stream",
     "text": [
      "12 épisodes trouvés\n",
      "Episode  1  :  que-nous-apprend-l-experience-de-l-apesanteur-bis-2151540\n",
      "Episode  2  :  quel-genre-de-science-est-la-geographie-selon-sylvain-tesson-6648109\n",
      "Episode  3  :  comment-travaillent-les-mathematiciens-le-cas-d-alexandre-grothendieck-re-7336954\n",
      "Episode  4  :  la-science-et-ses-pastiches-0-5109009\n",
      "Episode  5  :  pourquoi-les-philosophes-mathematiciens-se-font-ils-fusiller-le-cas-albert-lautman-1908-1944-1374334\n",
      "Episode  6  :  comment-nourrir-durablement-toute-l-humanite-3303920\n",
      "Episode  7  :  ne-pense-t-on-seulement-avec-sa-langue-6795745\n",
      "Episode  8  :  est-ce-la-lumiere-qui-sculpte-l-univers-8430962\n",
      "Episode  9  :  big-data-versus-theories-qui-va-s-imposer-2188176\n",
      "Episode  10  :  ou-le-passe-est-il-passe-8697433\n",
      "Episode  11  :  pourquoi-croit-on-1393290\n",
      "Episode  12  :  la-science-ou-l-art-de-raconter-ce-qui-s-est-passe-5661714\n"
     ]
    }
   ],
   "source": [
    "url = \"https://www.radiofrance.fr/franceculture/podcasts/la-conversation-scientifique\"\n",
    "dossier = \"C:/Users/Guigui/Downloads/\"\n",
    "\n",
    "liste = rfListe( url )\n",
    "tot = len(liste)\n",
    "cpt = 0\n",
    "print(str(tot) + ' épisodes trouvés')\n",
    "for i in liste :\n",
    "    cpt = cpt+1\n",
    "    audioUrl, nom = audioLien(i)\n",
    "    print('Episode ', str(cpt), ' : ', nom )\n",
    "    #download(dossier, audioUrl, nom)"
   ]
  },
  {
   "cell_type": "code",
   "execution_count": 25,
   "metadata": {},
   "outputs": [
    {
     "name": "stdout",
     "output_type": "stream",
     "text": [
      "Page  2\n",
      "[]\n",
      "0 épisodes trouvés\n",
      "Page  3\n",
      "[]\n",
      "0 épisodes trouvés\n",
      "Page  4\n",
      "[]\n",
      "0 épisodes trouvés\n",
      "Page  5\n",
      "[]\n",
      "0 épisodes trouvés\n",
      "Page  6\n",
      "[]\n",
      "0 épisodes trouvés\n"
     ]
    }
   ],
   "source": [
    "for i in range(2, 7):\n",
    "    print( 'Page ', i)\n",
    "    url = \"https://www.radiofrance.fr/franceculture/podcasts/la-conversation-scientifique?p=\" + str(i)\n",
    "    dossier = \"C:/Users/Guigui/Downloads/\"\n",
    "\n",
    "    liste = listeLiens( url )\n",
    "    tot = len(liste)\n",
    "    cpt = 0\n",
    "    print(str(tot) + ' épisodes trouvés')\n",
    "    for i in liste :\n",
    "        cpt = cpt+1\n",
    "        audioUrl, nom = audioLien(i)\n",
    "        print('Episode ', str(cpt), ' : ', nom )\n",
    "        #download(dossier, audioUrl, nom)"
   ]
  }
 ],
 "metadata": {
  "celltoolbar": "Aucun(e)",
  "kernelspec": {
   "display_name": "Python 3",
   "language": "python",
   "name": "python3"
  },
  "language_info": {
   "codemirror_mode": {
    "name": "ipython",
    "version": 3
   },
   "file_extension": ".py",
   "mimetype": "text/x-python",
   "name": "python",
   "nbconvert_exporter": "python",
   "pygments_lexer": "ipython3",
   "version": "3.10.8"
  },
  "vscode": {
   "interpreter": {
    "hash": "3773a497dbd509fb18822dc3a4470084fad9938c325f0283e5409280212f53b2"
   }
  }
 },
 "nbformat": 4,
 "nbformat_minor": 4
}
