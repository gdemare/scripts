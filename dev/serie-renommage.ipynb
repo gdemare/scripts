{
 "cells": [
  {
   "cell_type": "code",
   "execution_count": 1,
   "id": "e211be88",
   "metadata": {},
   "outputs": [],
   "source": [
    "import os\n",
    "import glob\n",
    "import re\n",
    "from tkinter import Tk\n",
    "from tkinter.filedialog import askdirectory"
   ]
  },
  {
   "cell_type": "code",
   "execution_count": null,
   "id": "ac86a000",
   "metadata": {},
   "outputs": [],
   "source": [
    "dossier = askdirectory(title='Select Folder')\n",
    "serie = re.search(r'((?!(/|\\\\)).)*$' , dossier).group(0)\n",
    "os.chdir(dossier)\n",
    "for i in os.listdir(dossier):\n",
    "    if \"mkv\" in i:\n",
    "        episode = re.search( \"[S|s][0-9]{2}[E|e][0-9]{2}\", i ).group(0)\n",
    "        nvnom = serie + episode + i[-4:]\n",
    "        print(i)\n",
    "        print(nvnom)\n",
    "        os.rename(i, nvnom)"
   ]
  },
  {
   "cell_type": "code",
   "execution_count": null,
   "id": "30e125a4",
   "metadata": {},
   "outputs": [],
   "source": []
  },
  {
   "cell_type": "code",
   "execution_count": null,
   "id": "d1ca854f",
   "metadata": {},
   "outputs": [],
   "source": []
  }
 ],
 "metadata": {
  "kernelspec": {
   "display_name": "Python 3 (ipykernel)",
   "language": "python",
   "name": "python3"
  },
  "language_info": {
   "codemirror_mode": {
    "name": "ipython",
    "version": 3
   },
   "file_extension": ".py",
   "mimetype": "text/x-python",
   "name": "python",
   "nbconvert_exporter": "python",
   "pygments_lexer": "ipython3",
   "version": "3.10.8"
  }
 },
 "nbformat": 4,
 "nbformat_minor": 5
}
